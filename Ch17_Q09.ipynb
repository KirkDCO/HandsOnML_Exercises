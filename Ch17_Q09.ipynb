{
  "nbformat": 4,
  "nbformat_minor": 0,
  "metadata": {
    "colab": {
      "name": "Ch17_Q09.ipynb",
      "provenance": [],
      "collapsed_sections": [],
      "authorship_tag": "ABX9TyOnhMWoNWztzsdArH4y+LAy",
      "include_colab_link": true
    },
    "kernelspec": {
      "name": "python3",
      "display_name": "Python 3"
    },
    "language_info": {
      "name": "python"
    },
    "accelerator": "GPU"
  },
  "cells": [
    {
      "cell_type": "markdown",
      "metadata": {
        "id": "view-in-github",
        "colab_type": "text"
      },
      "source": [
        "<a href=\"https://colab.research.google.com/github/KirkDCO/HandsOnML_Exercises/blob/main/Ch17_Q09.ipynb\" target=\"_parent\"><img src=\"https://colab.research.google.com/assets/colab-badge.svg\" alt=\"Open In Colab\"/></a>"
      ]
    },
    {
      "cell_type": "code",
      "execution_count": null,
      "metadata": {
        "id": "2j2BBu5sXVBp"
      },
      "outputs": [],
      "source": [
        "import tensorflow as tf\n",
        "from tensorflow import keras\n",
        "\n",
        "import numpy as np\n",
        "import matplotlib.pyplot as plt"
      ]
    },
    {
      "cell_type": "code",
      "source": [
        "(X_train_full, y_train_full), (X_test, y_test) = keras.datasets.fashion_mnist.load_data()\n",
        "\n",
        "X_train, X_valid = X_train_full[5000:]/255, X_train_full[:5000]/255\n",
        "y_train, y_valid = y_train_full[5000:], y_train_full[:5000]\n",
        "\n",
        "X_test = X_test/255\n",
        "\n",
        "# convert class vectors to binary class matrices\n",
        "y_train = keras.utils.to_categorical(y_train, 10)\n",
        "y_valid = keras.utils.to_categorical(y_valid, 10)\n",
        "y_test = keras.utils.to_categorical(y_test, 10) "
      ],
      "metadata": {
        "id": "rnMbLGyxYrew"
      },
      "execution_count": null,
      "outputs": []
    },
    {
      "cell_type": "code",
      "source": [
        "encoder = keras.models.Sequential([\n",
        "            keras.layers.GaussianNoise(0.1, input_shape = [28, 28, 1]),\n",
        "            keras.layers.Conv2D(32, kernel_size = 3, padding = 'same', activation = 'relu'),\n",
        "            keras.layers.MaxPool2D(),\n",
        "            keras.layers.Flatten(),\n",
        "            keras.layers.Dense(128)\n",
        "])\n",
        "\n",
        "encoder.summary()\n",
        "\n",
        "decoder = keras.models.Sequential([\n",
        "            keras.layers.Dense(14 * 14 * 32, activation = \"relu\", input_shape = [128]),\n",
        "            keras.layers.Reshape([14, 14, 32]),\n",
        "            keras.layers.Conv2DTranspose(filters = 1, kernel_size = 3, strides = 2,\n",
        "                                         padding = \"same\", activation = \"sigmoid\")\n",
        "])\n",
        "\n",
        "decoder.summary()\n",
        "\n",
        "dae = keras.models.Sequential([encoder, decoder])"
      ],
      "metadata": {
        "colab": {
          "base_uri": "https://localhost:8080/"
        },
        "id": "yESuxS6YYu6t",
        "outputId": "3f9a4157-358b-405a-e097-2c7fef811c60"
      },
      "execution_count": null,
      "outputs": [
        {
          "output_type": "stream",
          "name": "stdout",
          "text": [
            "Model: \"sequential\"\n",
            "_________________________________________________________________\n",
            " Layer (type)                Output Shape              Param #   \n",
            "=================================================================\n",
            " gaussian_noise (GaussianNoi  (None, 28, 28, 1)        0         \n",
            " se)                                                             \n",
            "                                                                 \n",
            " conv2d (Conv2D)             (None, 28, 28, 32)        320       \n",
            "                                                                 \n",
            " max_pooling2d (MaxPooling2D  (None, 14, 14, 32)       0         \n",
            " )                                                               \n",
            "                                                                 \n",
            " flatten (Flatten)           (None, 6272)              0         \n",
            "                                                                 \n",
            " dense (Dense)               (None, 128)               802944    \n",
            "                                                                 \n",
            "=================================================================\n",
            "Total params: 803,264\n",
            "Trainable params: 803,264\n",
            "Non-trainable params: 0\n",
            "_________________________________________________________________\n",
            "Model: \"sequential_1\"\n",
            "_________________________________________________________________\n",
            " Layer (type)                Output Shape              Param #   \n",
            "=================================================================\n",
            " dense_1 (Dense)             (None, 6272)              809088    \n",
            "                                                                 \n",
            " reshape (Reshape)           (None, 14, 14, 32)        0         \n",
            "                                                                 \n",
            " conv2d_transpose (Conv2DTra  (None, 28, 28, 1)        289       \n",
            " nspose)                                                         \n",
            "                                                                 \n",
            "=================================================================\n",
            "Total params: 809,377\n",
            "Trainable params: 809,377\n",
            "Non-trainable params: 0\n",
            "_________________________________________________________________\n"
          ]
        }
      ]
    },
    {
      "cell_type": "code",
      "source": [
        "# add learning rate scheduling \n",
        "def exponential_decay_fn(epoch):\n",
        "  return 0.001 * 0.1 ** (epoch / 10)\n",
        "\n",
        "lr_scheduler = keras.callbacks.LearningRateScheduler(exponential_decay_fn)\n",
        "\n",
        "# add early stopping\n",
        "early_stopping_cb = keras.callbacks.EarlyStopping(patience = 5, restore_best_weights = True)\n",
        "\n",
        "# clear the session for a clean run\n",
        "keras.backend.clear_session()\n",
        "tf.random.set_seed(42)\n",
        "\n",
        "# compile and run\n",
        "dae.compile(loss=\"binary_crossentropy\", optimizer=keras.optimizers.Nadam(),\n",
        "            metrics=[\"mse\"])\n",
        "history = dae.fit(X_train, X_train, epochs = 10,\n",
        "                  validation_data = (X_valid, X_valid),\n",
        "                  callbacks = [lr_scheduler, early_stopping_cb])"
      ],
      "metadata": {
        "colab": {
          "base_uri": "https://localhost:8080/"
        },
        "id": "MF1mlKIZidwR",
        "outputId": "b948daaf-25a6-4477-ea8f-eb543146977d"
      },
      "execution_count": null,
      "outputs": [
        {
          "output_type": "stream",
          "name": "stdout",
          "text": [
            "Epoch 1/10\n",
            "1719/1719 [==============================] - 21s 11ms/step - loss: 0.2942 - mse: 0.0174 - val_loss: 0.2810 - val_mse: 0.0136 - lr: 0.0010\n",
            "Epoch 2/10\n",
            "1719/1719 [==============================] - 19s 11ms/step - loss: 0.2673 - mse: 0.0083 - val_loss: 0.2771 - val_mse: 0.0120 - lr: 7.9433e-04\n",
            "Epoch 3/10\n",
            "1719/1719 [==============================] - 19s 11ms/step - loss: 0.2626 - mse: 0.0067 - val_loss: 0.2661 - val_mse: 0.0085 - lr: 6.3096e-04\n",
            "Epoch 4/10\n",
            "1719/1719 [==============================] - 20s 11ms/step - loss: 0.2604 - mse: 0.0060 - val_loss: 0.2616 - val_mse: 0.0071 - lr: 5.0119e-04\n",
            "Epoch 5/10\n",
            "1719/1719 [==============================] - 17s 10ms/step - loss: 0.2591 - mse: 0.0056 - val_loss: 0.2598 - val_mse: 0.0065 - lr: 3.9811e-04\n",
            "Epoch 6/10\n",
            "1719/1719 [==============================] - 17s 10ms/step - loss: 0.2583 - mse: 0.0053 - val_loss: 0.2605 - val_mse: 0.0066 - lr: 3.1623e-04\n",
            "Epoch 7/10\n",
            "1719/1719 [==============================] - 17s 10ms/step - loss: 0.2577 - mse: 0.0051 - val_loss: 0.2580 - val_mse: 0.0059 - lr: 2.5119e-04\n",
            "Epoch 8/10\n",
            "1719/1719 [==============================] - 16s 10ms/step - loss: 0.2573 - mse: 0.0050 - val_loss: 0.2588 - val_mse: 0.0061 - lr: 1.9953e-04\n",
            "Epoch 9/10\n",
            "1719/1719 [==============================] - 17s 10ms/step - loss: 0.2570 - mse: 0.0049 - val_loss: 0.2573 - val_mse: 0.0057 - lr: 1.5849e-04\n",
            "Epoch 10/10\n",
            "1719/1719 [==============================] - 17s 10ms/step - loss: 0.2568 - mse: 0.0048 - val_loss: 0.2568 - val_mse: 0.0055 - lr: 1.2589e-04\n"
          ]
        }
      ]
    },
    {
      "cell_type": "code",
      "source": [
        "n_images = 5\n",
        "new_images = X_test[:n_images]\n",
        "new_images_noisy = new_images + np.random.randn(n_images, 28, 28) * 0.2\n",
        "new_images_denoised = dae.predict(new_images_noisy)\n",
        "\n",
        "plt.figure(figsize=(6, n_images * 2))\n",
        "for index in range(n_images):\n",
        "    plt.subplot(n_images, 3, index * 3 + 1)\n",
        "    plt.imshow(new_images[index] * 255)\n",
        "    plt.axis('off')\n",
        "    if index == 0:\n",
        "        plt.title(\"Original\")\n",
        "    plt.subplot(n_images, 3, index * 3 + 2)\n",
        "    plt.imshow(np.clip(new_images_noisy[index], 0., 1.))\n",
        "    plt.axis('off')\n",
        "    if index == 0:\n",
        "        plt.title(\"Noisy\")\n",
        "    plt.subplot(n_images, 3, index * 3 + 3)\n",
        "    plt.imshow(new_images_denoised[index][..., -1])\n",
        "    plt.axis('off')\n",
        "    if index == 0:\n",
        "        plt.title(\"Denoised\")\n",
        "plt.show()"
      ],
      "metadata": {
        "colab": {
          "base_uri": "https://localhost:8080/",
          "height": 591
        },
        "id": "WJ294qhMoSbr",
        "outputId": "fdcf1f87-ae47-4326-f4a4-34542946b660"
      },
      "execution_count": null,
      "outputs": [
        {
          "output_type": "display_data",
          "data": {
            "text/plain": [
              "<Figure size 432x720 with 15 Axes>"
            ],
            "image/png": "[encoded data removed]"
          },
          "metadata": {
            "needs_background": "light"
          }
        }
      ]
    },
    {
      "cell_type": "code",
      "source": [
        "X_train500_enc = encoder.predict(X_train[:500])\n",
        "X_valid_enc = encoder.predict(X_valid)\n",
        "X_test_enc = encoder.predict(X_test)\n",
        "\n",
        "dae_model = keras.models.Sequential([\n",
        "              keras.layers.Dense(64, activation = 'relu', input_shape = [128]),\n",
        "              keras.layers.BatchNormalization(),\n",
        "              keras.layers.Dropout(0.25),\n",
        "              keras.layers.Dense(32, activation = 'relu'),\n",
        "              keras.layers.BatchNormalization(),\n",
        "              keras.layers.Dropout(0.25),\n",
        "              keras.layers.Dense(10, activation = 'softmax')\n",
        "])\n",
        "\n",
        "dae_model.summary()"
      ],
      "metadata": {
        "colab": {
          "base_uri": "https://localhost:8080/"
        },
        "id": "xAzClET5xbwm",
        "outputId": "685b2673-6054-41b6-b5b9-c4e4164404ab"
      },
      "execution_count": null,
      "outputs": [
        {
          "output_type": "stream",
          "name": "stdout",
          "text": [
            "Model: \"sequential_3\"\n",
            "_________________________________________________________________\n",
            " Layer (type)                Output Shape              Param #   \n",
            "=================================================================\n",
            " dense_9 (Dense)             (None, 64)                8256      \n",
            "                                                                 \n",
            " batch_normalization_5 (Batc  (None, 64)               256       \n",
            " hNormalization)                                                 \n",
            "                                                                 \n",
            " dropout_5 (Dropout)         (None, 64)                0         \n",
            "                                                                 \n",
            " dense_10 (Dense)            (None, 32)                2080      \n",
            "                                                                 \n",
            " batch_normalization_6 (Batc  (None, 32)               128       \n",
            " hNormalization)                                                 \n",
            "                                                                 \n",
            " dropout_6 (Dropout)         (None, 32)                0         \n",
            "                                                                 \n",
            " dense_11 (Dense)            (None, 10)                330       \n",
            "                                                                 \n",
            "=================================================================\n",
            "Total params: 11,050\n",
            "Trainable params: 10,858\n",
            "Non-trainable params: 192\n",
            "_________________________________________________________________\n"
          ]
        }
      ]
    },
    {
      "cell_type": "code",
      "source": [
        "# compile and run\n",
        "dae_model.compile(loss = \"categorical_crossentropy\", optimizer = keras.optimizers.Nadam(),\n",
        "                  metrics = [\"accuracy\"])\n",
        "history = dae_model.fit(X_train500_enc, y_train[:500], epochs = 100,\n",
        "                        validation_data = (X_valid_enc, y_valid),\n",
        "                        callbacks = [lr_scheduler, early_stopping_cb])\n",
        "dae_model.evaluate(X_test_enc, y_test)"
      ],
      "metadata": {
        "colab": {
          "base_uri": "https://localhost:8080/"
        },
        "outputId": "a6d3fe8e-4333-45e0-c2e0-6e4790f48a80",
        "id": "-G2kriAu0Jyb"
      },
      "execution_count": null,
      "outputs": [
        {
          "output_type": "stream",
          "name": "stdout",
          "text": [
            "Epoch 1/100\n",
            "16/16 [==============================] - 2s 48ms/step - loss: 1.2232 - accuracy: 0.6080 - val_loss: 1.0073 - val_accuracy: 0.6934 - lr: 0.0010\n",
            "Epoch 2/100\n",
            "16/16 [==============================] - 1s 37ms/step - loss: 1.1098 - accuracy: 0.6380 - val_loss: 0.9387 - val_accuracy: 0.7082 - lr: 7.9433e-04\n",
            "Epoch 3/100\n",
            "16/16 [==============================] - 1s 50ms/step - loss: 1.0108 - accuracy: 0.6760 - val_loss: 0.8935 - val_accuracy: 0.7256 - lr: 6.3096e-04\n",
            "Epoch 4/100\n",
            "16/16 [==============================] - 1s 37ms/step - loss: 0.9608 - accuracy: 0.7000 - val_loss: 0.8604 - val_accuracy: 0.7360 - lr: 5.0119e-04\n",
            "Epoch 5/100\n",
            "16/16 [==============================] - 1s 35ms/step - loss: 0.9785 - accuracy: 0.6940 - val_loss: 0.8402 - val_accuracy: 0.7402 - lr: 3.9811e-04\n",
            "Epoch 6/100\n",
            "16/16 [==============================] - 1s 50ms/step - loss: 0.8745 - accuracy: 0.7240 - val_loss: 0.8253 - val_accuracy: 0.7442 - lr: 3.1623e-04\n",
            "Epoch 7/100\n",
            "16/16 [==============================] - 1s 35ms/step - loss: 0.8276 - accuracy: 0.7380 - val_loss: 0.8144 - val_accuracy: 0.7480 - lr: 2.5119e-04\n",
            "Epoch 8/100\n",
            "16/16 [==============================] - 1s 50ms/step - loss: 0.9117 - accuracy: 0.6920 - val_loss: 0.8065 - val_accuracy: 0.7500 - lr: 1.9953e-04\n",
            "Epoch 9/100\n",
            "16/16 [==============================] - 1s 36ms/step - loss: 0.8467 - accuracy: 0.7320 - val_loss: 0.8018 - val_accuracy: 0.7512 - lr: 1.5849e-04\n",
            "Epoch 10/100\n",
            "16/16 [==============================] - 1s 36ms/step - loss: 0.8328 - accuracy: 0.7400 - val_loss: 0.7975 - val_accuracy: 0.7540 - lr: 1.2589e-04\n",
            "Epoch 11/100\n",
            "16/16 [==============================] - 1s 36ms/step - loss: 0.7597 - accuracy: 0.7820 - val_loss: 0.7953 - val_accuracy: 0.7546 - lr: 1.0000e-04\n",
            "Epoch 12/100\n",
            "16/16 [==============================] - 1s 36ms/step - loss: 0.8309 - accuracy: 0.7480 - val_loss: 0.7915 - val_accuracy: 0.7550 - lr: 7.9433e-05\n",
            "Epoch 13/100\n",
            "16/16 [==============================] - 1s 50ms/step - loss: 0.8290 - accuracy: 0.7480 - val_loss: 0.7897 - val_accuracy: 0.7552 - lr: 6.3096e-05\n",
            "Epoch 14/100\n",
            "16/16 [==============================] - 1s 50ms/step - loss: 0.7726 - accuracy: 0.7860 - val_loss: 0.7879 - val_accuracy: 0.7550 - lr: 5.0119e-05\n",
            "Epoch 15/100\n",
            "16/16 [==============================] - 1s 38ms/step - loss: 0.8192 - accuracy: 0.7520 - val_loss: 0.7867 - val_accuracy: 0.7554 - lr: 3.9811e-05\n",
            "Epoch 16/100\n",
            "16/16 [==============================] - 1s 36ms/step - loss: 0.8327 - accuracy: 0.7160 - val_loss: 0.7865 - val_accuracy: 0.7562 - lr: 3.1623e-05\n",
            "Epoch 17/100\n",
            "16/16 [==============================] - 1s 37ms/step - loss: 0.7952 - accuracy: 0.7560 - val_loss: 0.7861 - val_accuracy: 0.7560 - lr: 2.5119e-05\n",
            "Epoch 18/100\n",
            "16/16 [==============================] - 1s 37ms/step - loss: 0.8269 - accuracy: 0.7440 - val_loss: 0.7863 - val_accuracy: 0.7560 - lr: 1.9953e-05\n",
            "Epoch 19/100\n",
            "16/16 [==============================] - 1s 50ms/step - loss: 0.8187 - accuracy: 0.7500 - val_loss: 0.7858 - val_accuracy: 0.7564 - lr: 1.5849e-05\n",
            "Epoch 20/100\n",
            "16/16 [==============================] - 1s 50ms/step - loss: 0.7953 - accuracy: 0.7560 - val_loss: 0.7854 - val_accuracy: 0.7564 - lr: 1.2589e-05\n",
            "Epoch 21/100\n",
            "16/16 [==============================] - 1s 38ms/step - loss: 0.8087 - accuracy: 0.7200 - val_loss: 0.7856 - val_accuracy: 0.7564 - lr: 1.0000e-05\n",
            "Epoch 22/100\n",
            "16/16 [==============================] - 1s 50ms/step - loss: 0.8359 - accuracy: 0.7200 - val_loss: 0.7858 - val_accuracy: 0.7564 - lr: 7.9433e-06\n",
            "Epoch 23/100\n",
            "16/16 [==============================] - 1s 38ms/step - loss: 0.7610 - accuracy: 0.7740 - val_loss: 0.7850 - val_accuracy: 0.7566 - lr: 6.3096e-06\n",
            "Epoch 24/100\n",
            "16/16 [==============================] - 1s 36ms/step - loss: 0.8005 - accuracy: 0.7380 - val_loss: 0.7853 - val_accuracy: 0.7564 - lr: 5.0119e-06\n",
            "Epoch 25/100\n",
            "16/16 [==============================] - 1s 49ms/step - loss: 0.7732 - accuracy: 0.7520 - val_loss: 0.7852 - val_accuracy: 0.7568 - lr: 3.9811e-06\n",
            "Epoch 26/100\n",
            "16/16 [==============================] - 1s 50ms/step - loss: 0.7751 - accuracy: 0.7460 - val_loss: 0.7861 - val_accuracy: 0.7564 - lr: 3.1623e-06\n",
            "Epoch 27/100\n",
            "16/16 [==============================] - 1s 38ms/step - loss: 0.8082 - accuracy: 0.7480 - val_loss: 0.7854 - val_accuracy: 0.7574 - lr: 2.5119e-06\n",
            "Epoch 28/100\n",
            "16/16 [==============================] - 1s 51ms/step - loss: 0.8286 - accuracy: 0.7340 - val_loss: 0.7855 - val_accuracy: 0.7572 - lr: 1.9953e-06\n",
            "313/313 [==============================] - 1s 3ms/step - loss: 0.8085 - accuracy: 0.7470\n"
          ]
        },
        {
          "output_type": "execute_result",
          "data": {
            "text/plain": [
              "[0.8085425496101379, 0.746999979019165]"
            ]
          },
          "metadata": {},
          "execution_count": 31
        }
      ]
    },
    {
      "cell_type": "code",
      "source": [
        "basicCNN = keras.models.Sequential([\n",
        "           keras.layers.Conv2D(32, kernel_size = 3, padding = 'same', activation = 'relu', input_shape = [28, 28, 1]),\n",
        "           keras.layers.MaxPool2D(),\n",
        "           keras.layers.Flatten(),\n",
        "           keras.layers.Dense(128),\n",
        "           keras.layers.Dense(64, activation = 'relu'),\n",
        "           keras.layers.BatchNormalization(),\n",
        "           keras.layers.Dropout(0.25),\n",
        "           keras.layers.Dense(32, activation = 'relu'),\n",
        "           keras.layers.BatchNormalization(),\n",
        "           keras.layers.Dropout(0.25),\n",
        "           keras.layers.Dense(10, activation = 'softmax')\n",
        "])\n",
        "\n",
        "basicCNN.compile(loss = \"categorical_crossentropy\", optimizer = keras.optimizers.Nadam(),\n",
        "                 metrics = [\"accuracy\"])\n",
        "history = basicCNN.fit(X_train[:500], y_train[:500], epochs = 100,\n",
        "                       validation_data = (X_valid, y_valid),\n",
        "                       callbacks = [lr_scheduler, early_stopping_cb])\n",
        "basicCNN.evaluate(X_test, y_test)\n"
      ],
      "metadata": {
        "colab": {
          "base_uri": "https://localhost:8080/"
        },
        "id": "QyfgG2bYBHGH",
        "outputId": "aeb4e3dd-e904-4cb2-bc16-9bca44f8ddde"
      },
      "execution_count": null,
      "outputs": [
        {
          "output_type": "stream",
          "name": "stdout",
          "text": [
            "Epoch 1/100\n",
            "16/16 [==============================] - 3s 71ms/step - loss: 1.8398 - accuracy: 0.3760 - val_loss: 2.1420 - val_accuracy: 0.2580 - lr: 0.0010\n",
            "Epoch 2/100\n",
            "16/16 [==============================] - 1s 54ms/step - loss: 1.3574 - accuracy: 0.5400 - val_loss: 1.9921 - val_accuracy: 0.3754 - lr: 7.9433e-04\n",
            "Epoch 3/100\n",
            "16/16 [==============================] - 1s 48ms/step - loss: 1.1440 - accuracy: 0.6380 - val_loss: 1.8355 - val_accuracy: 0.6040 - lr: 6.3096e-04\n",
            "Epoch 4/100\n",
            "16/16 [==============================] - 1s 54ms/step - loss: 0.9358 - accuracy: 0.7000 - val_loss: 1.8231 - val_accuracy: 0.6118 - lr: 5.0119e-04\n",
            "Epoch 5/100\n",
            "16/16 [==============================] - 1s 53ms/step - loss: 0.8320 - accuracy: 0.7620 - val_loss: 1.7760 - val_accuracy: 0.6664 - lr: 3.9811e-04\n",
            "Epoch 6/100\n",
            "16/16 [==============================] - 1s 54ms/step - loss: 0.7226 - accuracy: 0.8260 - val_loss: 1.7217 - val_accuracy: 0.6572 - lr: 3.1623e-04\n",
            "Epoch 7/100\n",
            "16/16 [==============================] - 1s 54ms/step - loss: 0.6414 - accuracy: 0.8360 - val_loss: 1.6524 - val_accuracy: 0.6748 - lr: 2.5119e-04\n",
            "Epoch 8/100\n",
            "16/16 [==============================] - 1s 47ms/step - loss: 0.6068 - accuracy: 0.8460 - val_loss: 1.6191 - val_accuracy: 0.6612 - lr: 1.9953e-04\n",
            "Epoch 9/100\n",
            "16/16 [==============================] - 1s 48ms/step - loss: 0.5827 - accuracy: 0.8480 - val_loss: 1.5448 - val_accuracy: 0.7024 - lr: 1.5849e-04\n",
            "Epoch 10/100\n",
            "16/16 [==============================] - 1s 53ms/step - loss: 0.5751 - accuracy: 0.8580 - val_loss: 1.5141 - val_accuracy: 0.6856 - lr: 1.2589e-04\n",
            "Epoch 11/100\n",
            "16/16 [==============================] - 1s 45ms/step - loss: 0.5159 - accuracy: 0.8780 - val_loss: 1.4451 - val_accuracy: 0.6976 - lr: 1.0000e-04\n",
            "Epoch 12/100\n",
            "16/16 [==============================] - 1s 55ms/step - loss: 0.5092 - accuracy: 0.8920 - val_loss: 1.3931 - val_accuracy: 0.7000 - lr: 7.9433e-05\n",
            "Epoch 13/100\n",
            "16/16 [==============================] - 1s 47ms/step - loss: 0.4654 - accuracy: 0.9120 - val_loss: 1.3450 - val_accuracy: 0.7092 - lr: 6.3096e-05\n",
            "Epoch 14/100\n",
            "16/16 [==============================] - 1s 54ms/step - loss: 0.4970 - accuracy: 0.8840 - val_loss: 1.2798 - val_accuracy: 0.7286 - lr: 5.0119e-05\n",
            "Epoch 15/100\n",
            "16/16 [==============================] - 1s 53ms/step - loss: 0.4763 - accuracy: 0.8960 - val_loss: 1.2190 - val_accuracy: 0.7388 - lr: 3.9811e-05\n",
            "Epoch 16/100\n",
            "16/16 [==============================] - 1s 53ms/step - loss: 0.4302 - accuracy: 0.9080 - val_loss: 1.1534 - val_accuracy: 0.7590 - lr: 3.1623e-05\n",
            "Epoch 17/100\n",
            "16/16 [==============================] - 1s 45ms/step - loss: 0.4733 - accuracy: 0.9020 - val_loss: 1.1027 - val_accuracy: 0.7662 - lr: 2.5119e-05\n",
            "Epoch 18/100\n",
            "16/16 [==============================] - 1s 53ms/step - loss: 0.4237 - accuracy: 0.9220 - val_loss: 1.0518 - val_accuracy: 0.7754 - lr: 1.9953e-05\n",
            "Epoch 19/100\n",
            "16/16 [==============================] - 1s 47ms/step - loss: 0.4429 - accuracy: 0.9120 - val_loss: 1.0136 - val_accuracy: 0.7770 - lr: 1.5849e-05\n",
            "Epoch 20/100\n",
            "16/16 [==============================] - 1s 47ms/step - loss: 0.4593 - accuracy: 0.8980 - val_loss: 0.9772 - val_accuracy: 0.7782 - lr: 1.2589e-05\n",
            "Epoch 21/100\n",
            "16/16 [==============================] - 1s 46ms/step - loss: 0.4492 - accuracy: 0.9160 - val_loss: 0.9390 - val_accuracy: 0.7852 - lr: 1.0000e-05\n",
            "Epoch 22/100\n",
            "16/16 [==============================] - 1s 47ms/step - loss: 0.4437 - accuracy: 0.9040 - val_loss: 0.9025 - val_accuracy: 0.7896 - lr: 7.9433e-06\n",
            "Epoch 23/100\n",
            "16/16 [==============================] - 1s 55ms/step - loss: 0.4198 - accuracy: 0.9360 - val_loss: 0.8699 - val_accuracy: 0.7934 - lr: 6.3096e-06\n",
            "Epoch 24/100\n",
            "16/16 [==============================] - 1s 47ms/step - loss: 0.4402 - accuracy: 0.9240 - val_loss: 0.8421 - val_accuracy: 0.7940 - lr: 5.0119e-06\n",
            "Epoch 25/100\n",
            "16/16 [==============================] - 1s 54ms/step - loss: 0.4860 - accuracy: 0.8980 - val_loss: 0.8130 - val_accuracy: 0.7948 - lr: 3.9811e-06\n",
            "Epoch 26/100\n",
            "16/16 [==============================] - 1s 46ms/step - loss: 0.4317 - accuracy: 0.9080 - val_loss: 0.7906 - val_accuracy: 0.7972 - lr: 3.1623e-06\n",
            "Epoch 27/100\n",
            "16/16 [==============================] - 1s 49ms/step - loss: 0.4487 - accuracy: 0.9160 - val_loss: 0.7692 - val_accuracy: 0.8006 - lr: 2.5119e-06\n",
            "Epoch 28/100\n",
            "16/16 [==============================] - 1s 53ms/step - loss: 0.4364 - accuracy: 0.9160 - val_loss: 0.7524 - val_accuracy: 0.8016 - lr: 1.9953e-06\n",
            "Epoch 29/100\n",
            "16/16 [==============================] - 1s 55ms/step - loss: 0.4022 - accuracy: 0.9220 - val_loss: 0.7377 - val_accuracy: 0.8020 - lr: 1.5849e-06\n",
            "Epoch 30/100\n",
            "16/16 [==============================] - 1s 47ms/step - loss: 0.4216 - accuracy: 0.9200 - val_loss: 0.7226 - val_accuracy: 0.8026 - lr: 1.2589e-06\n",
            "Epoch 31/100\n",
            "16/16 [==============================] - 1s 56ms/step - loss: 0.4153 - accuracy: 0.9180 - val_loss: 0.7098 - val_accuracy: 0.8050 - lr: 1.0000e-06\n",
            "Epoch 32/100\n",
            "16/16 [==============================] - 1s 46ms/step - loss: 0.4260 - accuracy: 0.9160 - val_loss: 0.6992 - val_accuracy: 0.8056 - lr: 7.9433e-07\n",
            "Epoch 33/100\n",
            "16/16 [==============================] - 1s 55ms/step - loss: 0.4530 - accuracy: 0.9140 - val_loss: 0.6893 - val_accuracy: 0.8066 - lr: 6.3096e-07\n",
            "Epoch 34/100\n",
            "16/16 [==============================] - 1s 45ms/step - loss: 0.4349 - accuracy: 0.9120 - val_loss: 0.6818 - val_accuracy: 0.8078 - lr: 5.0119e-07\n",
            "Epoch 35/100\n",
            "16/16 [==============================] - 1s 53ms/step - loss: 0.4310 - accuracy: 0.9020 - val_loss: 0.6754 - val_accuracy: 0.8080 - lr: 3.9811e-07\n",
            "Epoch 36/100\n",
            "16/16 [==============================] - 1s 49ms/step - loss: 0.4603 - accuracy: 0.8980 - val_loss: 0.6708 - val_accuracy: 0.8082 - lr: 3.1623e-07\n",
            "Epoch 37/100\n",
            "16/16 [==============================] - 1s 49ms/step - loss: 0.4184 - accuracy: 0.9200 - val_loss: 0.6658 - val_accuracy: 0.8090 - lr: 2.5119e-07\n",
            "Epoch 38/100\n",
            "16/16 [==============================] - 1s 49ms/step - loss: 0.4184 - accuracy: 0.9240 - val_loss: 0.6618 - val_accuracy: 0.8096 - lr: 1.9953e-07\n",
            "Epoch 39/100\n",
            "16/16 [==============================] - 1s 53ms/step - loss: 0.4367 - accuracy: 0.9160 - val_loss: 0.6582 - val_accuracy: 0.8098 - lr: 1.5849e-07\n",
            "Epoch 40/100\n",
            "16/16 [==============================] - 1s 53ms/step - loss: 0.4572 - accuracy: 0.9040 - val_loss: 0.6558 - val_accuracy: 0.8092 - lr: 1.2589e-07\n",
            "Epoch 41/100\n",
            "16/16 [==============================] - 1s 47ms/step - loss: 0.3874 - accuracy: 0.9440 - val_loss: 0.6535 - val_accuracy: 0.8098 - lr: 1.0000e-07\n",
            "Epoch 42/100\n",
            "16/16 [==============================] - 1s 47ms/step - loss: 0.4138 - accuracy: 0.9220 - val_loss: 0.6516 - val_accuracy: 0.8102 - lr: 7.9433e-08\n",
            "Epoch 43/100\n",
            "16/16 [==============================] - 1s 54ms/step - loss: 0.4450 - accuracy: 0.9060 - val_loss: 0.6501 - val_accuracy: 0.8100 - lr: 6.3096e-08\n",
            "Epoch 44/100\n",
            "16/16 [==============================] - 1s 46ms/step - loss: 0.3934 - accuracy: 0.9260 - val_loss: 0.6494 - val_accuracy: 0.8098 - lr: 5.0119e-08\n",
            "Epoch 45/100\n",
            "16/16 [==============================] - 1s 55ms/step - loss: 0.4378 - accuracy: 0.9140 - val_loss: 0.6478 - val_accuracy: 0.8094 - lr: 3.9811e-08\n",
            "Epoch 46/100\n",
            "16/16 [==============================] - 1s 54ms/step - loss: 0.4059 - accuracy: 0.9380 - val_loss: 0.6463 - val_accuracy: 0.8096 - lr: 3.1623e-08\n",
            "Epoch 47/100\n",
            "16/16 [==============================] - 1s 54ms/step - loss: 0.4663 - accuracy: 0.8880 - val_loss: 0.6451 - val_accuracy: 0.8098 - lr: 2.5119e-08\n",
            "Epoch 48/100\n",
            "16/16 [==============================] - 1s 47ms/step - loss: 0.4276 - accuracy: 0.9260 - val_loss: 0.6441 - val_accuracy: 0.8100 - lr: 1.9953e-08\n",
            "Epoch 49/100\n",
            "16/16 [==============================] - 1s 55ms/step - loss: 0.4605 - accuracy: 0.9140 - val_loss: 0.6435 - val_accuracy: 0.8102 - lr: 1.5849e-08\n",
            "Epoch 50/100\n",
            "16/16 [==============================] - 1s 47ms/step - loss: 0.4353 - accuracy: 0.9120 - val_loss: 0.6428 - val_accuracy: 0.8100 - lr: 1.2589e-08\n",
            "Epoch 51/100\n",
            "16/16 [==============================] - 1s 53ms/step - loss: 0.4318 - accuracy: 0.9180 - val_loss: 0.6426 - val_accuracy: 0.8104 - lr: 1.0000e-08\n",
            "Epoch 52/100\n",
            "16/16 [==============================] - 1s 53ms/step - loss: 0.4177 - accuracy: 0.9160 - val_loss: 0.6423 - val_accuracy: 0.8100 - lr: 7.9433e-09\n",
            "Epoch 53/100\n",
            "16/16 [==============================] - 1s 46ms/step - loss: 0.4845 - accuracy: 0.8940 - val_loss: 0.6421 - val_accuracy: 0.8100 - lr: 6.3096e-09\n",
            "Epoch 54/100\n",
            "16/16 [==============================] - 1s 55ms/step - loss: 0.4330 - accuracy: 0.9080 - val_loss: 0.6415 - val_accuracy: 0.8100 - lr: 5.0119e-09\n",
            "Epoch 55/100\n",
            "16/16 [==============================] - 1s 54ms/step - loss: 0.4259 - accuracy: 0.9000 - val_loss: 0.6417 - val_accuracy: 0.8100 - lr: 3.9811e-09\n",
            "Epoch 56/100\n",
            "16/16 [==============================] - 1s 48ms/step - loss: 0.4103 - accuracy: 0.9240 - val_loss: 0.6412 - val_accuracy: 0.8098 - lr: 3.1623e-09\n",
            "Epoch 57/100\n",
            "16/16 [==============================] - 1s 54ms/step - loss: 0.4433 - accuracy: 0.9100 - val_loss: 0.6409 - val_accuracy: 0.8100 - lr: 2.5119e-09\n",
            "Epoch 58/100\n",
            "16/16 [==============================] - 1s 53ms/step - loss: 0.4543 - accuracy: 0.9180 - val_loss: 0.6410 - val_accuracy: 0.8098 - lr: 1.9953e-09\n",
            "Epoch 59/100\n",
            "16/16 [==============================] - 1s 47ms/step - loss: 0.4383 - accuracy: 0.9040 - val_loss: 0.6403 - val_accuracy: 0.8102 - lr: 1.5849e-09\n",
            "Epoch 60/100\n",
            "16/16 [==============================] - 1s 48ms/step - loss: 0.4049 - accuracy: 0.9320 - val_loss: 0.6403 - val_accuracy: 0.8102 - lr: 1.2589e-09\n",
            "Epoch 61/100\n",
            "16/16 [==============================] - 1s 54ms/step - loss: 0.4253 - accuracy: 0.9080 - val_loss: 0.6400 - val_accuracy: 0.8100 - lr: 1.0000e-09\n",
            "Epoch 62/100\n",
            "16/16 [==============================] - 1s 48ms/step - loss: 0.4356 - accuracy: 0.9140 - val_loss: 0.6400 - val_accuracy: 0.8100 - lr: 7.9433e-10\n",
            "Epoch 63/100\n",
            "16/16 [==============================] - 1s 54ms/step - loss: 0.4537 - accuracy: 0.9100 - val_loss: 0.6396 - val_accuracy: 0.8096 - lr: 6.3096e-10\n",
            "Epoch 64/100\n",
            "16/16 [==============================] - 1s 53ms/step - loss: 0.4287 - accuracy: 0.9140 - val_loss: 0.6396 - val_accuracy: 0.8098 - lr: 5.0119e-10\n",
            "Epoch 65/100\n",
            "16/16 [==============================] - 1s 48ms/step - loss: 0.4561 - accuracy: 0.8980 - val_loss: 0.6394 - val_accuracy: 0.8096 - lr: 3.9811e-10\n",
            "Epoch 66/100\n",
            "16/16 [==============================] - 1s 53ms/step - loss: 0.4248 - accuracy: 0.9340 - val_loss: 0.6396 - val_accuracy: 0.8098 - lr: 3.1623e-10\n",
            "Epoch 67/100\n",
            "16/16 [==============================] - 1s 53ms/step - loss: 0.4107 - accuracy: 0.9320 - val_loss: 0.6399 - val_accuracy: 0.8096 - lr: 2.5119e-10\n",
            "Epoch 68/100\n",
            "16/16 [==============================] - 1s 54ms/step - loss: 0.4101 - accuracy: 0.9240 - val_loss: 0.6405 - val_accuracy: 0.8100 - lr: 1.9953e-10\n",
            "Epoch 69/100\n",
            "16/16 [==============================] - 1s 53ms/step - loss: 0.4383 - accuracy: 0.9140 - val_loss: 0.6409 - val_accuracy: 0.8098 - lr: 1.5849e-10\n",
            "Epoch 70/100\n",
            "16/16 [==============================] - 1s 47ms/step - loss: 0.4355 - accuracy: 0.8960 - val_loss: 0.6408 - val_accuracy: 0.8102 - lr: 1.2589e-10\n",
            "313/313 [==============================] - 1s 4ms/step - loss: 0.6636 - accuracy: 0.7960\n"
          ]
        },
        {
          "output_type": "execute_result",
          "data": {
            "text/plain": [
              "[0.6636202931404114, 0.7960000038146973]"
            ]
          },
          "metadata": {},
          "execution_count": 29
        }
      ]
    }
  ]
}