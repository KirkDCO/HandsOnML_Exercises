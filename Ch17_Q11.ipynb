{
  "nbformat": 4,
  "nbformat_minor": 0,
  "metadata": {
    "colab": {
      "name": "Ch17_Q11.ipynb",
      "provenance": [],
      "mount_file_id": "1VHNzv94PXicV9uwTTyhmuWUOLwIgYrQg",
      "authorship_tag": "ABX9TyMpr9KHmcL/DGEnIrysq+1q",
      "include_colab_link": true
    },
    "kernelspec": {
      "name": "python3",
      "display_name": "Python 3"
    },
    "language_info": {
      "name": "python"
    },
    "accelerator": "GPU"
  },
  "cells": [
    {
      "cell_type": "markdown",
      "metadata": {
        "id": "view-in-github",
        "colab_type": "text"
      },
      "source": [
        "<a href=\"https://colab.research.google.com/github/KirkDCO/HandsOnML_Exercises/blob/main/Ch17_Q11.ipynb\" target=\"_parent\"><img src=\"https://colab.research.google.com/assets/colab-badge.svg\" alt=\"Open In Colab\"/></a>"
      ]
    },
    {
      "cell_type": "code",
      "execution_count": null,
      "metadata": {
        "id": "CucDw_pJSo44"
      },
      "outputs": [],
      "source": [
        "!cp -r drive/MyDrive/Colab\\ Notebooks/HandsOnML/Ch17_Q10/flowers sample_data/."
      ]
    },
    {
      "cell_type": "code",
      "source": [
        "!mkdir sample_data/flowers_small\n",
        "!cp -r sample_data/flowers/sunflower sample_data/flowers_small/."
      ],
      "metadata": {
        "id": "k_lYqW7BtgFv"
      },
      "execution_count": null,
      "outputs": []
    },
    {
      "cell_type": "code",
      "source": [
        "!mkdir sample_data/flowers_small\n",
        "!cp -r drive/MyDrive/Colab\\ Notebooks/HandsOnML/Ch17_Q10/flowers/sunflower sample_data/flowers_small/."
      ],
      "metadata": {
        "id": "izKs7SKuzyL6"
      },
      "execution_count": null,
      "outputs": []
    },
    {
      "cell_type": "code",
      "source": [
        "# imports and globals\n",
        "\n",
        "import tensorflow as tf\n",
        "from tensorflow import keras\n",
        "K = keras.backend\n",
        "\n",
        "import numpy as np\n",
        "import matplotlib.pyplot as plt\n",
        "import random\n",
        "\n",
        "BATCH_SIZE = 32 \n",
        "\n",
        "IMG_WIDTH  = 48 \n",
        "IMG_HEIGHT = 48 \n",
        "\n",
        "ENCODING_SIZE = 512 "
      ],
      "metadata": {
        "id": "xM5DN8UnTPIA"
      },
      "execution_count": null,
      "outputs": []
    },
    {
      "cell_type": "code",
      "source": [
        "# create a flower with labels generator\n",
        "#flower_generator = tf.keras.preprocessing.image_dataset_from_directory(\n",
        "#  \"sample_data/flowers\",\n",
        "#  seed = 84,\n",
        "#  image_size = (IMG_HEIGHT, IMG_WIDTH),\n",
        "#  batch_size = BATCH_SIZE, \n",
        "#  labels = 'inferred'\n",
        "#)\n",
        "\n",
        "# keep the flower names for future reference\n",
        "#flower_names = flower_generator.class_names\n",
        "\n",
        "# create a training data generator \n",
        "training_generator = tf.keras.preprocessing.image_dataset_from_directory(\n",
        "  \"sample_data/flowers_small\",\n",
        "  seed = 42,\n",
        "  image_size = (IMG_HEIGHT, IMG_WIDTH),\n",
        "  batch_size = BATCH_SIZE, \n",
        "  labels = None\n",
        ")\n",
        "\n",
        "training_generator = training_generator.prefetch(1)"
      ],
      "metadata": {
        "id": "GL7CsYdgTkkR",
        "colab": {
          "base_uri": "https://localhost:8080/"
        },
        "outputId": "7dc12e00-de92-46fc-d24e-809949082747"
      },
      "execution_count": null,
      "outputs": [
        {
          "output_type": "stream",
          "name": "stdout",
          "text": [
            "Found 1027 files belonging to 1 classes.\n"
          ]
        }
      ]
    },
    {
      "cell_type": "code",
      "source": [
        "generator = keras.Sequential([\n",
        "  keras.layers.Dense(128 * 6 * 6, activation = \"selu\", input_shape = [ENCODING_SIZE]),\n",
        "  keras.layers.Reshape([6, 6, 128]),\n",
        "  keras.layers.BatchNormalization(),\n",
        "  keras.layers.Conv2DTranspose(filters = 128, kernel_size = 3, strides = 2,\n",
        "                               padding = \"same\", activation = \"selu\",\n",
        "                               kernel_initializer='lecun_normal'),\n",
        "  keras.layers.BatchNormalization(),\n",
        "  keras.layers.Conv2DTranspose(filters = 64, kernel_size = 3, strides = 2,\n",
        "                               padding = \"same\", activation = \"selu\",\n",
        "                               kernel_initializer='lecun_normal'),\n",
        "  keras.layers.BatchNormalization(),\n",
        "  keras.layers.Conv2DTranspose(filters = 32, kernel_size = 3, strides = 2,\n",
        "                               padding = \"same\", activation = \"selu\",\n",
        "                               kernel_initializer='lecun_normal'),\n",
        "  keras.layers.Conv2DTranspose(filters = 3, kernel_size = 3, strides = 1,\n",
        "                               padding = 'same', activation = 'sigmoid')\n",
        "])\n",
        "generator.summary()   \n",
        "\n",
        "discriminator = keras.Sequential([\n",
        "  keras.layers.Conv2D(32, input_shape = [IMG_WIDTH, IMG_HEIGHT, 3], kernel_size = 3, \n",
        "                      strides = 1, padding = 'same', activation = keras.layers.LeakyReLU(0.2)),\n",
        "  keras.layers.Dropout(0.25),                      \n",
        "  keras.layers.Conv2D(64, kernel_size = 3, strides = 2,\n",
        "                      padding = 'same', activation = keras.layers.LeakyReLU(0.2)),\n",
        "  keras.layers.Dropout(0.25),                      \n",
        "  keras.layers.Conv2D(128, kernel_size = 3, strides = 2,\n",
        "                      padding = 'same', activation = keras.layers.LeakyReLU(0.2)),\n",
        "  keras.layers.Dropout(0.25),                      \n",
        "  keras.layers.Flatten(),\n",
        "  keras.layers.Dense(1, activation = 'sigmoid')                                  \n",
        "])\n",
        "discriminator.summary()\n",
        "\n",
        "gan = keras.models.Sequential([generator, discriminator])\n",
        "gan.summary()"
      ],
      "metadata": {
        "colab": {
          "base_uri": "https://localhost:8080/"
        },
        "id": "pxf_vUx6Urrg",
        "outputId": "8ab98eab-16ef-4437-d930-e8fd7d88dda4"
      },
      "execution_count": null,
      "outputs": [
        {
          "output_type": "stream",
          "name": "stdout",
          "text": [
            "Model: \"sequential\"\n",
            "_________________________________________________________________\n",
            " Layer (type)                Output Shape              Param #   \n",
            "=================================================================\n",
            " dense (Dense)               (None, 4608)              2363904   \n",
            "                                                                 \n",
            " reshape (Reshape)           (None, 6, 6, 128)         0         \n",
            "                                                                 \n",
            " batch_normalization (BatchN  (None, 6, 6, 128)        512       \n",
            " ormalization)                                                   \n",
            "                                                                 \n",
            " conv2d_transpose (Conv2DTra  (None, 12, 12, 128)      147584    \n",
            " nspose)                                                         \n",
            "                                                                 \n",
            " batch_normalization_1 (Batc  (None, 12, 12, 128)      512       \n",
            " hNormalization)                                                 \n",
            "                                                                 \n",
            " conv2d_transpose_1 (Conv2DT  (None, 24, 24, 64)       73792     \n",
            " ranspose)                                                       \n",
            "                                                                 \n",
            " batch_normalization_2 (Batc  (None, 24, 24, 64)       256       \n",
            " hNormalization)                                                 \n",
            "                                                                 \n",
            " conv2d_transpose_2 (Conv2DT  (None, 48, 48, 32)       18464     \n",
            " ranspose)                                                       \n",
            "                                                                 \n",
            " conv2d_transpose_3 (Conv2DT  (None, 48, 48, 3)        867       \n",
            " ranspose)                                                       \n",
            "                                                                 \n",
            "=================================================================\n",
            "Total params: 2,605,891\n",
            "Trainable params: 2,605,251\n",
            "Non-trainable params: 640\n",
            "_________________________________________________________________\n",
            "Model: \"sequential_1\"\n",
            "_________________________________________________________________\n",
            " Layer (type)                Output Shape              Param #   \n",
            "=================================================================\n",
            " conv2d (Conv2D)             (None, 48, 48, 32)        896       \n",
            "                                                                 \n",
            " dropout (Dropout)           (None, 48, 48, 32)        0         \n",
            "                                                                 \n",
            " conv2d_1 (Conv2D)           (None, 24, 24, 64)        18496     \n",
            "                                                                 \n",
            " dropout_1 (Dropout)         (None, 24, 24, 64)        0         \n",
            "                                                                 \n",
            " conv2d_2 (Conv2D)           (None, 12, 12, 128)       73856     \n",
            "                                                                 \n",
            " dropout_2 (Dropout)         (None, 12, 12, 128)       0         \n",
            "                                                                 \n",
            " flatten (Flatten)           (None, 18432)             0         \n",
            "                                                                 \n",
            " dense_1 (Dense)             (None, 1)                 18433     \n",
            "                                                                 \n",
            "=================================================================\n",
            "Total params: 111,681\n",
            "Trainable params: 111,681\n",
            "Non-trainable params: 0\n",
            "_________________________________________________________________\n",
            "Model: \"sequential_2\"\n",
            "_________________________________________________________________\n",
            " Layer (type)                Output Shape              Param #   \n",
            "=================================================================\n",
            " sequential (Sequential)     (None, 48, 48, 3)         2605891   \n",
            "                                                                 \n",
            " sequential_1 (Sequential)   (None, 1)                 111681    \n",
            "                                                                 \n",
            "=================================================================\n",
            "Total params: 2,717,572\n",
            "Trainable params: 2,716,932\n",
            "Non-trainable params: 640\n",
            "_________________________________________________________________\n"
          ]
        }
      ]
    },
    {
      "cell_type": "code",
      "source": [
        "def plot_multiple_images(images, n_cols=None):\n",
        "    n_cols = n_cols or len(images)\n",
        "    n_rows = (len(images) - 1) // n_cols + 1\n",
        "    if images.shape[-1] == 1:\n",
        "        images = np.squeeze(images, axis=-1)\n",
        "    plt.figure(figsize=(n_cols * 3, n_rows * 3))\n",
        "    for index, image in enumerate(images):\n",
        "        plt.subplot(n_rows, n_cols, index + 1)\n",
        "        plt.imshow(image, cmap=\"binary\")\n",
        "        plt.axis(\"off\")\n",
        "\n",
        "def exponential_decay_fn(epoch):\n",
        "  return 0.001 * 0.1 ** (epoch / 20)\n",
        "\n",
        "def train_gan(gan, dataset, BATCH_SIZE, ENCODING_SIZE, n_epochs=50):\n",
        "    generator, discriminator = gan.layers\n",
        "    for epoch in range(n_epochs):\n",
        "        print(\"Epoch {}/{}\".format(epoch + 1, n_epochs))\n",
        "        for X_batch in dataset:\n",
        "          print(\"=\", end = '')\n",
        "          X_batch /= 255\n",
        "          # phase 1 - training the discriminator\n",
        "          noise = tf.random.normal(shape=[len(X_batch), ENCODING_SIZE])\n",
        "          generated_images = generator(noise)\n",
        "          X_fake_and_real = tf.concat([generated_images, X_batch], axis=0)\n",
        "          y1 = tf.constant([[0.]] * len(X_batch) + [[1.]] * len(X_batch))\n",
        "          discriminator.trainable = True\n",
        "          K.set_value(discriminator.optimizer.learning_rate, \n",
        "                      exponential_decay_fn(epoch))\n",
        "          discriminator.train_on_batch(X_fake_and_real, y1)\n",
        "\n",
        "          # phase 2 - training the generator\n",
        "          noise = tf.random.normal(shape=[len(X_batch), ENCODING_SIZE])\n",
        "          y2 = tf.constant([[1.]] * len(X_batch))\n",
        "          discriminator.trainable = False\n",
        "          K.set_value(gan.optimizer.learning_rate, \n",
        "                      exponential_decay_fn(epoch))\n",
        "          gan.train_on_batch(noise, y2)\n",
        "        \n",
        "        plot_multiple_images(X_fake_and_real, 3)\n",
        "        plt.show()"
      ],
      "metadata": {
        "id": "6YuRrd09YzHx"
      },
      "execution_count": null,
      "outputs": []
    },
    {
      "cell_type": "code",
      "source": [
        "# clear the session for a clean run\n",
        "keras.backend.clear_session()\n",
        "tf.random.set_seed(42)\n",
        "\n",
        "discriminator.compile(loss = 'binary_crossentropy', optimizer = keras.optimizers.Nadam())\n",
        "discriminator.trainable = False\n",
        "gan.compile(loss = 'binary_crossentropy', optimizer = keras.optimizers.Nadam())\n",
        "\n",
        "train_gan(gan, training_generator, BATCH_SIZE, ENCODING_SIZE, n_epochs = 500)"
      ],
      "metadata": {
        "id": "FjPEAxOSppXk"
      },
      "execution_count": null,
      "outputs": []
    }
  ]
}