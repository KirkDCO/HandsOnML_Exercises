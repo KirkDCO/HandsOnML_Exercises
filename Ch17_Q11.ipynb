{
  "nbformat": 4,
  "nbformat_minor": 0,
  "metadata": {
    "colab": {
      "name": "Ch17_Q11.ipynb",
      "provenance": [],
      "mount_file_id": "1VHNzv94PXicV9uwTTyhmuWUOLwIgYrQg",
      "authorship_tag": "ABX9TyPsqC4ld1NBmQ4Hr66e6ims",
      "include_colab_link": true
    },
    "kernelspec": {
      "name": "python3",
      "display_name": "Python 3"
    },
    "language_info": {
      "name": "python"
    }
  },
  "cells": [
    {
      "cell_type": "markdown",
      "metadata": {
        "id": "view-in-github",
        "colab_type": "text"
      },
      "source": [
        "<a href=\"https://colab.research.google.com/github/KirkDCO/HandsOnML_Exercises/blob/main/Ch17_Q11.ipynb\" target=\"_parent\"><img src=\"https://colab.research.google.com/assets/colab-badge.svg\" alt=\"Open In Colab\"/></a>"
      ]
    },
    {
      "cell_type": "code",
      "execution_count": 2,
      "metadata": {
        "id": "CucDw_pJSo44"
      },
      "outputs": [],
      "source": [
        "!cp -r drive/MyDrive/Colab\\ Notebooks/HandsOnML/Ch17_Q10/flowers sample_data/."
      ]
    },
    {
      "cell_type": "code",
      "source": [
        "# imports and globals\n",
        "\n",
        "import tensorflow as tf\n",
        "from tensorflow import keras\n",
        "K = keras.backend\n",
        "\n",
        "import numpy as np\n",
        "import matplotlib.pyplot as plt\n",
        "import random\n",
        "\n",
        "BATCH_SIZE = 32 \n",
        "\n",
        "IMG_WIDTH  = 96 \n",
        "IMG_HEIGHT = 96 \n",
        "\n",
        "ENCODING_SIZE = 8 "
      ],
      "metadata": {
        "id": "xM5DN8UnTPIA"
      },
      "execution_count": 3,
      "outputs": []
    },
    {
      "cell_type": "code",
      "source": [
        "# create a flower with labels generator\n",
        "flower_generator = tf.keras.preprocessing.image_dataset_from_directory(\n",
        "  \"sample_data/flowers\",\n",
        "  seed = 84,\n",
        "  image_size = (IMG_HEIGHT, IMG_WIDTH),\n",
        "  batch_size = BATCH_SIZE, \n",
        "  labels = 'inferred'\n",
        ")\n",
        "\n",
        "# keep the flower names for future reference\n",
        "flower_names = flower_generator.class_names\n",
        "\n",
        "# create a training data generator \n",
        "training_generator = tf.keras.preprocessing.image_dataset_from_directory(\n",
        "  \"sample_data/flowers\",\n",
        "  seed = 42,\n",
        "  image_size = (IMG_HEIGHT, IMG_WIDTH),\n",
        "  batch_size = BATCH_SIZE, \n",
        "  labels = None, \n",
        "  validation_split = 0.2,\n",
        "  subset = 'training'\n",
        ")\n",
        "\n",
        "# and a validation set generator\n",
        "validation_generator = tf.keras.preprocessing.image_dataset_from_directory(\n",
        "  \"sample_data/flowers\",\n",
        "  seed = 42,\n",
        "  image_size = (IMG_HEIGHT, IMG_WIDTH),\n",
        "  batch_size = BATCH_SIZE, \n",
        "  labels = None, \n",
        "  validation_split = 0.2,\n",
        "  subset = 'validation'\n",
        ")\n",
        "\n",
        "# autoencoders require the input matrix as both the input\n",
        "# and the output\n",
        "# provide input -> input for the autoencoder\n",
        "# and, do scaling\n",
        "def replicate_inputs_to_outputs(images):\n",
        "  return images/255, images/255\n",
        "\n",
        "# create prefetch generators to speed things up a bit\n",
        "training_generator = training_generator.prefetch(128)\n",
        "validation_generator = validation_generator.prefetch(128)\n",
        "\n",
        "# create the final generators to be used in training the autoencoders\n",
        "X_train = training_generator.map(replicate_inputs_to_outputs)\n",
        "X_valid = validation_generator.map(replicate_inputs_to_outputs"
      ],
      "metadata": {
        "id": "GL7CsYdgTkkR"
      },
      "execution_count": null,
      "outputs": []
    },
    {
      "cell_type": "code",
      "source": [
        "def train_gan(gan, dataset, batch_size, codings_size, n_epochs=50):\n",
        "    generator, discriminator = gan.layers\n",
        "    for epoch in range(n_epochs):\n",
        "        print(\"Epoch {}/{}\".format(epoch + 1, n_epochs))              # not shown in the book\n",
        "        for X_batch in dataset:\n",
        "            # phase 1 - training the discriminator\n",
        "            noise = tf.random.normal(shape=[batch_size, codings_size])\n",
        "            generated_images = generator(noise)\n",
        "            X_fake_and_real = tf.concat([generated_images, X_batch], axis=0)\n",
        "            y1 = tf.constant([[0.]] * batch_size + [[1.]] * batch_size)\n",
        "            discriminator.trainable = True\n",
        "            discriminator.train_on_batch(X_fake_and_real, y1)\n",
        "            # phase 2 - training the generator\n",
        "            noise = tf.random.normal(shape=[batch_size, codings_size])\n",
        "            y2 = tf.constant([[1.]] * batch_size)\n",
        "            discriminator.trainable = False\n",
        "            gan.train_on_batch(noise, y2)\n",
        "        plot_multiple_images(generated_images, 8)                     # not shown\n",
        "        plt.show()                                                    # not shown"
      ],
      "metadata": {
        "id": "6YuRrd09YzHx"
      },
      "execution_count": null,
      "outputs": []
    },
    {
      "cell_type": "code",
      "source": [
        "generator = keras.Sequential([\n",
        "  keras.layers.Dense(256 * 12 * 12, activation = \"selu\", input_shape = [ENCODING_SIZE]),\n",
        "  keras.layers.Reshape([12, 12, 256]),\n",
        "  keras.layers.BatchNormalization(),\n",
        "  keras.layers.Conv2DTranspose(filters = 256, kernel_size = 3, strides = 2,\n",
        "                               padding = \"same\", activation = \"selu\"),\n",
        "  keras.layers.BatchNormalization(),\n",
        "  keras.layers.Conv2DTranspose(filters = 128, kernel_size = 3, strides = 2,\n",
        "                               padding = \"same\", activation = \"selu\"),\n",
        "  keras.layers.BatchNormalization(),\n",
        "  keras.layers.Conv2DTranspose(filters = 64, kernel_size = 3, strides = 2,\n",
        "                               padding = \"same\", activation = \"selu\"),\n",
        "  keras.layers.Conv2DTranspose(filters = 3, kernel_size = 3, strides = 1,\n",
        "                               padding = 'same', activation = 'tanh')\n",
        "])\n",
        "generator.summary()   \n",
        "\n",
        "discriminator = keras.Sequential([\n",
        "  keras.layers.Conv2D(64, input_shape = [IMG_WIDTH, IMG_HEIGHT, 3], kernel_size = 3, \n",
        "                      strides = 1, padding = 'same', activation = 'selu',\n",
        "                      kernel_initializer='lecun_normal'),\n",
        "  keras.layers.Conv2D(128, kernel_size = 3, strides = 2,\n",
        "                      padding = 'same', activation = 'selu',\n",
        "                      kernel_initializer='lecun_normal'),\n",
        "  keras.layers.Conv2D(256, kernel_size = 3, strides = 2,\n",
        "                      padding = 'same', activation = 'selu',\n",
        "                      kernel_initializer='lecun_normal'),\n",
        "  keras.layers.Flatten(),\n",
        "  keras.layers.Dense(1, activation = 'sigmoid')                                  \n",
        "])\n",
        "discriminator.summary()\n",
        "\n",
        "gan = keras.models.Sequential([generator, discriminator])\n",
        "gan.summary()"
      ],
      "metadata": {
        "colab": {
          "base_uri": "https://localhost:8080/"
        },
        "id": "pxf_vUx6Urrg",
        "outputId": "02199359-f23a-404f-984a-91ac047188dd"
      },
      "execution_count": 10,
      "outputs": [
        {
          "output_type": "stream",
          "name": "stdout",
          "text": [
            "Model: \"sequential_10\"\n",
            "_________________________________________________________________\n",
            " Layer (type)                Output Shape              Param #   \n",
            "=================================================================\n",
            " dense_8 (Dense)             (None, 36864)             331776    \n",
            "                                                                 \n",
            " reshape_6 (Reshape)         (None, 12, 12, 256)       0         \n",
            "                                                                 \n",
            " batch_normalization_23 (Bat  (None, 12, 12, 256)      1024      \n",
            " chNormalization)                                                \n",
            "                                                                 \n",
            " conv2d_transpose_26 (Conv2D  (None, 24, 24, 256)      590080    \n",
            " Transpose)                                                      \n",
            "                                                                 \n",
            " batch_normalization_24 (Bat  (None, 24, 24, 256)      1024      \n",
            " chNormalization)                                                \n",
            "                                                                 \n",
            " conv2d_transpose_27 (Conv2D  (None, 48, 48, 128)      295040    \n",
            " Transpose)                                                      \n",
            "                                                                 \n",
            " batch_normalization_25 (Bat  (None, 48, 48, 128)      512       \n",
            " chNormalization)                                                \n",
            "                                                                 \n",
            " conv2d_transpose_28 (Conv2D  (None, 96, 96, 64)       73792     \n",
            " Transpose)                                                      \n",
            "                                                                 \n",
            " conv2d_transpose_29 (Conv2D  (None, 96, 96, 3)        1731      \n",
            " Transpose)                                                      \n",
            "                                                                 \n",
            "=================================================================\n",
            "Total params: 1,294,979\n",
            "Trainable params: 1,293,699\n",
            "Non-trainable params: 1,280\n",
            "_________________________________________________________________\n",
            "Model: \"sequential_11\"\n",
            "_________________________________________________________________\n",
            " Layer (type)                Output Shape              Param #   \n",
            "=================================================================\n",
            " conv2d_7 (Conv2D)           (None, 96, 96, 64)        1792      \n",
            "                                                                 \n",
            " conv2d_8 (Conv2D)           (None, 48, 48, 128)       73856     \n",
            "                                                                 \n",
            " conv2d_9 (Conv2D)           (None, 24, 24, 256)       295168    \n",
            "                                                                 \n",
            " flatten_2 (Flatten)         (None, 147456)            0         \n",
            "                                                                 \n",
            " dense_9 (Dense)             (None, 1)                 147457    \n",
            "                                                                 \n",
            "=================================================================\n",
            "Total params: 518,273\n",
            "Trainable params: 518,273\n",
            "Non-trainable params: 0\n",
            "_________________________________________________________________\n",
            "Model: \"sequential_12\"\n",
            "_________________________________________________________________\n",
            " Layer (type)                Output Shape              Param #   \n",
            "=================================================================\n",
            " sequential_10 (Sequential)  (None, 96, 96, 3)         1294979   \n",
            "                                                                 \n",
            " sequential_11 (Sequential)  (None, 1)                 518273    \n",
            "                                                                 \n",
            "=================================================================\n",
            "Total params: 1,813,252\n",
            "Trainable params: 1,811,972\n",
            "Non-trainable params: 1,280\n",
            "_________________________________________________________________\n"
          ]
        }
      ]
    }
  ]
}